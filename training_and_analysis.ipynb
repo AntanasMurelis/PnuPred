{
 "cells": [
  {
   "cell_type": "code",
   "execution_count": 1,
   "metadata": {},
   "outputs": [],
   "source": [
    "from misc import sample_images_with_labels, LoadLungImages, get_probabilities\n",
    "from train import CNNClassification, ShallowResNetClassification, ShallowMobileNetClassification\n",
    "from Dataloaders import CreateDataLoaders\n",
    "from sklearn.metrics import roc_curve, auc\n",
    "import matplotlib.pyplot as plt\n",
    "from visualisation import visualize_attributions_panel, visualize_attributions_layer_panel\n",
    "import numpy as np\n",
    "import os"
   ]
  },
  {
   "cell_type": "code",
   "execution_count": 3,
   "metadata": {},
   "outputs": [],
   "source": [
    "# Load data - please change the path to your local path\n",
    "path = \"/Users/antanas/GitRepo/PnuPred/PnuPred/PnuData/chest_xray/\"\n",
    "\n",
    "X_train, y_train = LoadLungImages(os.path.join(path, \"train\"))\n",
    "X_test, y_test = LoadLungImages(os.path.join(path, \"test\"))\n",
    "X_val, y_val = LoadLungImages(os.path.join(path, \"val\"))\n",
    "\n",
    "X_train = X_train + X_val\n",
    "y_train = y_train + y_val"
   ]
  },
  {
   "cell_type": "code",
   "execution_count": 4,
   "metadata": {},
   "outputs": [],
   "source": [
    "# Train CNN and ShallowResNet models\n",
    "cnn_model, _, _ = CNNClassification(X_train, y_train, X_test, y_test, num_epochs=10, learning_rate=0.001, batch_size=32, preprocess=False)\n",
    "resnet_model, _, _ = ShallowResNetClassification(X_train, y_train, X_test, y_test, num_epochs=10, learning_rate=0.001, batch_size=32, preprocess=False)\n",
    "mobilenet_model, _, _ = ShallowMobileNetClassification(X_train, y_train, X_test, y_test, num_epochs=10, learning_rate=0.001, batch_size=32, preprocess=False)"
   ]
  },
  {
   "cell_type": "code",
   "execution_count": null,
   "metadata": {},
   "outputs": [],
   "source": [
    "# Create test dataloader\n",
    "_, test_loader = CreateDataLoaders(X_train, y_train, X_test, y_test, batch_size=50, preprocess=True)\n",
    "\n",
    "# Get probabilities for both models\n",
    "cnn_probs = get_probabilities(cnn_model, test_loader)\n",
    "resnet_probs = get_probabilities(resnet_model, test_loader)\n",
    "mobilenet_probs = get_probabilities(mobilenet_model, test_loader)\n",
    "\n",
    "# Calculate ROC curve for both models\n",
    "cnn_fpr, cnn_tpr, _ = roc_curve(y_test, cnn_probs)\n",
    "cnn_auc = auc(cnn_fpr, cnn_tpr)\n",
    "resnet_fpr, resnet_tpr, _ = roc_curve(y_test, resnet_probs)\n",
    "resnet_auc = auc(resnet_fpr, resnet_tpr)\n",
    "mobilenet_fpr, mobilenet_tpr, _ = roc_curve(y_test, mobilenet_probs)\n",
    "mobilenet_auc = auc(mobilenet_fpr, mobilenet_tpr)\n",
    "\n",
    "\n",
    "# Plot the ROC curve\n",
    "plt.figure()\n",
    "plt.plot(cnn_fpr, cnn_tpr, label='CNN (area = {:.2f})'.format(cnn_auc))\n",
    "plt.plot(resnet_fpr, resnet_tpr, label='Shallow ResNet (area = {:.2f})'.format(resnet_auc))\n",
    "plt.plot(mobilenet_fpr, mobilenet_tpr, label='Shallow MobileNet (area = {:.2f})'.format(mobilenet_auc))\n",
    "plt.plot([0, 1], [0, 1], 'k--')\n",
    "plt.xlim([0.0, 1.0])\n",
    "plt.ylim([0.0, 1.05])\n",
    "plt.xlabel('False Positive Rate')\n",
    "plt.ylabel('True Positive Rate')\n",
    "plt.title('Receiver Operating Characteristic')\n",
    "plt.legend(loc=\"lower right\")\n",
    "plt.show()"
   ]
  },
  {
   "cell_type": "code",
   "execution_count": null,
   "metadata": {},
   "outputs": [],
   "source": [
    "pos_img, pos_label = sample_images_with_labels(X_test, y_test, label = 1, num_samples = 5)\n",
    "neg_img, neg_label = sample_images_with_labels(X_test, y_test, label = 0, num_samples = 5)\n",
    "images = pos_img + neg_img  # define your image data here\n",
    "labels = pos_label + neg_label  # define your labels here"
   ]
  },
  {
   "attachments": {},
   "cell_type": "markdown",
   "metadata": {},
   "source": [
    "### Integrated-Gradients"
   ]
  },
  {
   "cell_type": "code",
   "execution_count": null,
   "metadata": {},
   "outputs": [],
   "source": [
    "figure, axis = visualize_attributions_panel(mobilenet_model, images, labels, sign = 'all')"
   ]
  },
  {
   "cell_type": "code",
   "execution_count": null,
   "metadata": {},
   "outputs": [],
   "source": [
    "figure, axis = visualize_attributions_panel(cnn_model, images, labels, sign = 'all')"
   ]
  },
  {
   "cell_type": "code",
   "execution_count": null,
   "metadata": {},
   "outputs": [],
   "source": [
    "figure, axis = visualize_attributions_panel(resnet_model, images, labels, sign = 'all')"
   ]
  },
  {
   "attachments": {},
   "cell_type": "markdown",
   "metadata": {},
   "source": [
    "### Grad-CAM"
   ]
  },
  {
   "cell_type": "code",
   "execution_count": null,
   "metadata": {},
   "outputs": [],
   "source": [
    "fig, axs = visualize_attributions_layer_panel(mobilenet_model, images, labels, ['conv_dw1', 'conv_dw2'])"
   ]
  },
  {
   "cell_type": "code",
   "execution_count": null,
   "metadata": {},
   "outputs": [],
   "source": [
    "fig, axs = visualize_attributions_layer_panel(cnn_model, images, labels, ['conv1', 'conv2'])"
   ]
  },
  {
   "cell_type": "code",
   "execution_count": null,
   "metadata": {},
   "outputs": [],
   "source": [
    "fig, axs = visualize_attributions_layer_panel(resnet_model, images, labels, ['layer1', 'layer2'])"
   ]
  },
  {
   "attachments": {},
   "cell_type": "markdown",
   "metadata": {},
   "source": [
    "### Sanity Check"
   ]
  },
  {
   "cell_type": "code",
   "execution_count": null,
   "metadata": {},
   "outputs": [],
   "source": [
    "sample = np.random.choice(y_train, size=len(y_train), replace=True)\n",
    "model, loss_list, acc_list = ShallowResNetClassification(X_train, sample, X_test, y_test, num_epochs = 1, learning_rate = 0.001, batch_size = 10, preprocess = False)"
   ]
  }
 ],
 "metadata": {
  "kernelspec": {
   "display_name": "IntepNets",
   "language": "python",
   "name": "python3"
  },
  "language_info": {
   "codemirror_mode": {
    "name": "ipython",
    "version": 3
   },
   "file_extension": ".py",
   "mimetype": "text/x-python",
   "name": "python",
   "nbconvert_exporter": "python",
   "pygments_lexer": "ipython3",
   "version": "3.9.0"
  },
  "orig_nbformat": 4
 },
 "nbformat": 4,
 "nbformat_minor": 2
}
